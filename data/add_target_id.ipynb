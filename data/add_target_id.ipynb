{
 "cells": [
  {
   "cell_type": "markdown",
   "metadata": {},
   "source": [
    "# ターゲットIDを付与する"
   ]
  },
  {
   "cell_type": "code",
   "execution_count": 2,
   "metadata": {},
   "outputs": [],
   "source": [
    "import pandas as pd\n",
    "dataset_paths = [\"bindingdb\", \"davis\", \"metz\", \"pdbbind\"]\n",
    "for data_path in dataset_paths:\n",
    "    for i in range(0, 5):\n",
    "        train_path = f\"./{data_path}/cv{i}/train.csv\"\n",
    "        valid_path = f\"./{data_path}/cv{i}/valid.csv\"\n",
    "        test_path = f\"./{data_path}/cv{i}/test.csv\"\n",
    "    \n",
    "        df_train = pd.read_csv(train_path)\n",
    "        df_valid = pd.read_csv(valid_path)\n",
    "        df_test = pd.read_csv(test_path)\n",
    "        \n",
    "        df_total = pd.concat([df_train, df_valid, df_test], axis=0).reset_index(drop=True)\n",
    "        df_total[\"target_id\"] = pd.factorize(df_total[\"target_sequence\"])[0]\n",
    "        \n",
    "        df_train = df_total.iloc[:len(df_train)]\n",
    "        df_valid = df_total.iloc[len(df_train):len(df_train)+len(df_valid)]\n",
    "        df_test = df_total.iloc[len(df_train)+len(df_valid):]\n",
    "        \n",
    "        df_train.to_csv(train_path, index=False)\n",
    "        df_valid.to_csv(valid_path, index=False)\n",
    "        df_test.to_csv(test_path, index=False)"
   ]
  },
  {
   "cell_type": "code",
   "execution_count": 6,
   "metadata": {},
   "outputs": [],
   "source": [
    "dataset_paths = [\"bindingdb\", \"davis\", \"metz\", \"pdbbind\"]\n",
    "for data_path in dataset_paths:\n",
    "    for i in range(0, 5):\n",
    "        train_path = f\"./{data_path}/cv{i}/train.csv\"\n",
    "        valid_path = f\"./{data_path}/cv{i}/valid.csv\"\n",
    "        test_path = f\"./{data_path}/cv{i}/test.csv\"\n",
    "        \n",
    "        #Unnamed: 0列を削除\n",
    "        df_train = pd.read_csv(train_path)\n",
    "        if \"Unnamed: 0\" in df_train.columns:\n",
    "            df_train = df_train.drop(\"Unnamed: 0\", axis=1)\n",
    "        df_train.to_csv(train_path, index=False)\n",
    "        df_valid = pd.read_csv(valid_path)\n",
    "        if \"Unnamed: 0\" in df_valid.columns:\n",
    "            df_valid = df_valid.drop(\"Unnamed: 0\", axis=1)\n",
    "            df_valid.to_csv(valid_path, index=False)\n",
    "        if \"Unnamed: 0\" in df_test.columns:\n",
    "            df_test = df_test.drop(\"Unnamed: 0\", axis=1)\n",
    "            df_test.to_csv(test_path, index=False)"
   ]
  },
  {
   "cell_type": "code",
   "execution_count": null,
   "metadata": {},
   "outputs": [],
   "source": []
  }
 ],
 "metadata": {
  "kernelspec": {
   "display_name": "chemglam",
   "language": "python",
   "name": "python3"
  },
  "language_info": {
   "codemirror_mode": {
    "name": "ipython",
    "version": 3
   },
   "file_extension": ".py",
   "mimetype": "text/x-python",
   "name": "python",
   "nbconvert_exporter": "python",
   "pygments_lexer": "ipython3",
   "version": "3.10.14"
  }
 },
 "nbformat": 4,
 "nbformat_minor": 2
}
