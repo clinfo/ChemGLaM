{
 "cells": [
  {
   "cell_type": "markdown",
   "metadata": {},
   "source": [
    "# File preprocessing for training\n",
    "\n",
    "1. create train_valid.csv by concatenating train.csv and valid.csv\n",
    "2. create train_valid_split.json by indexing train_valid.csv into train and valid"
   ]
  },
  {
   "cell_type": "code",
   "execution_count": 1,
   "metadata": {},
   "outputs": [],
   "source": [
    "import pandas as pd\n",
    "import json \n",
    "\n",
    "dataset_paths = [\"bindingdb\", \"davis\", \"metz\", \"pdbbind\"]\n",
    "for data_path in dataset_paths:\n",
    "    for i in range(0, 5):\n",
    "        train_path = f\"./{data_path}/cv{i}/train.csv\"\n",
    "        valid_path = f\"./{data_path}/cv{i}/valid.csv\"\n",
    "        test_path = f\"./{data_path}/cv{i}/test.csv\"\n",
    "        \n",
    "        df_train = pd.read_csv(train_path)\n",
    "        df_valid = pd.read_csv(valid_path)\n",
    "        df_test = pd.read_csv(test_path)\n",
    "        \n",
    "        df_total = pd.concat([df_train, df_valid, df_test]).reset_index(drop=True)\n",
    "        df_total.to_csv(f\"./{data_path}/cv{i}/total.csv\", index=False)\n",
    "        \n",
    "        df_train_valid = pd.concat([df_train, df_valid]).reset_index(drop=True)\n",
    "        df_train_valid.to_csv(f\"./{data_path}/cv{i}/train_valid.csv\", index=False)\n",
    "        \n",
    "        index_dict = {\n",
    "            \"train\": list(range(0, len(df_train))),\n",
    "            \"valid\": list(range(len(df_train), len(df_train) + len(df_valid))),\n",
    "            \"test\": list(range(len(df_train) + len(df_valid), len(df_train) + len(df_valid) + len(df_test)))\n",
    "        }\n",
    "        \n",
    "        with open(f\"./{data_path}/cv{i}/total_split.json\", \"w\") as f:\n",
    "            json.dump(index_dict, f)\n",
    "           \n",
    "        index_dict = {\n",
    "            \"train\": list(range(0, len(df_train))),\n",
    "            \"valid\": list(range(len(df_train), len(df_train) + len(df_valid))),\n",
    "        }\n",
    "        \n",
    "        with open(f\"./{data_path}/cv{i}/train_valid_split.json\", \"w\") as f:\n",
    "            json.dump(index_dict, f)"
   ]
  },
  {
   "cell_type": "code",
   "execution_count": null,
   "metadata": {},
   "outputs": [],
   "source": []
  }
 ],
 "metadata": {
  "kernelspec": {
   "display_name": "chemglam_hug",
   "language": "python",
   "name": "python3"
  },
  "language_info": {
   "codemirror_mode": {
    "name": "ipython",
    "version": 3
   },
   "file_extension": ".py",
   "mimetype": "text/x-python",
   "name": "python",
   "nbconvert_exporter": "python",
   "pygments_lexer": "ipython3",
   "version": "3.11.10"
  }
 },
 "nbformat": 4,
 "nbformat_minor": 2
}
